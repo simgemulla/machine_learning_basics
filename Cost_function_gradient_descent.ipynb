{
 "cells": [
  {
   "cell_type": "code",
   "execution_count": 1,
   "metadata": {},
   "outputs": [],
   "source": [
    "import numpy as np\n",
    "import matplotlib.pyplot as plt\n",
    "import pandas as pd\n",
    "import random as rd"
   ]
  },
  {
   "cell_type": "code",
   "execution_count": 2,
   "metadata": {},
   "outputs": [],
   "source": [
    "df=pd.read_excel(\"Ev_fiyatlari.xlsx\",usecols=['Metrekare', 'Fiyat'])"
   ]
  },
  {
   "cell_type": "code",
   "execution_count": 3,
   "metadata": {},
   "outputs": [
    {
     "data": {
      "text/html": [
       "<div>\n",
       "<style scoped>\n",
       "    .dataframe tbody tr th:only-of-type {\n",
       "        vertical-align: middle;\n",
       "    }\n",
       "\n",
       "    .dataframe tbody tr th {\n",
       "        vertical-align: top;\n",
       "    }\n",
       "\n",
       "    .dataframe thead th {\n",
       "        text-align: right;\n",
       "    }\n",
       "</style>\n",
       "<table border=\"1\" class=\"dataframe\">\n",
       "  <thead>\n",
       "    <tr style=\"text-align: right;\">\n",
       "      <th></th>\n",
       "      <th>Metrekare</th>\n",
       "      <th>Fiyat</th>\n",
       "    </tr>\n",
       "  </thead>\n",
       "  <tbody>\n",
       "    <tr>\n",
       "      <td>0</td>\n",
       "      <td>112.1</td>\n",
       "      <td>763000</td>\n",
       "    </tr>\n",
       "    <tr>\n",
       "      <td>1</td>\n",
       "      <td>113.6</td>\n",
       "      <td>747000</td>\n",
       "    </tr>\n",
       "    <tr>\n",
       "      <td>2</td>\n",
       "      <td>140.7</td>\n",
       "      <td>871000</td>\n",
       "    </tr>\n",
       "    <tr>\n",
       "      <td>3</td>\n",
       "      <td>118.4</td>\n",
       "      <td>703500</td>\n",
       "    </tr>\n",
       "    <tr>\n",
       "      <td>4</td>\n",
       "      <td>119.0</td>\n",
       "      <td>720500</td>\n",
       "    </tr>\n",
       "  </tbody>\n",
       "</table>\n",
       "</div>"
      ],
      "text/plain": [
       "   Metrekare   Fiyat\n",
       "0      112.1  763000\n",
       "1      113.6  747000\n",
       "2      140.7  871000\n",
       "3      118.4  703500\n",
       "4      119.0  720500"
      ]
     },
     "execution_count": 3,
     "metadata": {},
     "output_type": "execute_result"
    }
   ],
   "source": [
    "df.head()"
   ]
  },
  {
   "cell_type": "code",
   "execution_count": 4,
   "metadata": {},
   "outputs": [
    {
     "data": {
      "text/html": [
       "<div>\n",
       "<style scoped>\n",
       "    .dataframe tbody tr th:only-of-type {\n",
       "        vertical-align: middle;\n",
       "    }\n",
       "\n",
       "    .dataframe tbody tr th {\n",
       "        vertical-align: top;\n",
       "    }\n",
       "\n",
       "    .dataframe thead th {\n",
       "        text-align: right;\n",
       "    }\n",
       "</style>\n",
       "<table border=\"1\" class=\"dataframe\">\n",
       "  <thead>\n",
       "    <tr style=\"text-align: right;\">\n",
       "      <th></th>\n",
       "      <th>Metrekare</th>\n",
       "      <th>Fiyat</th>\n",
       "    </tr>\n",
       "  </thead>\n",
       "  <tbody>\n",
       "    <tr>\n",
       "      <td>count</td>\n",
       "      <td>100.000000</td>\n",
       "      <td>100.000000</td>\n",
       "    </tr>\n",
       "    <tr>\n",
       "      <td>mean</td>\n",
       "      <td>119.139000</td>\n",
       "      <td>755645.000000</td>\n",
       "    </tr>\n",
       "    <tr>\n",
       "      <td>std</td>\n",
       "      <td>10.743482</td>\n",
       "      <td>62547.529201</td>\n",
       "    </tr>\n",
       "    <tr>\n",
       "      <td>min</td>\n",
       "      <td>92.600000</td>\n",
       "      <td>594000.000000</td>\n",
       "    </tr>\n",
       "    <tr>\n",
       "      <td>25%</td>\n",
       "      <td>112.050000</td>\n",
       "      <td>708625.000000</td>\n",
       "    </tr>\n",
       "    <tr>\n",
       "      <td>50%</td>\n",
       "      <td>118.600000</td>\n",
       "      <td>757000.000000</td>\n",
       "    </tr>\n",
       "    <tr>\n",
       "      <td>75%</td>\n",
       "      <td>125.950000</td>\n",
       "      <td>791875.000000</td>\n",
       "    </tr>\n",
       "    <tr>\n",
       "      <td>max</td>\n",
       "      <td>144.900000</td>\n",
       "      <td>946000.000000</td>\n",
       "    </tr>\n",
       "  </tbody>\n",
       "</table>\n",
       "</div>"
      ],
      "text/plain": [
       "        Metrekare          Fiyat\n",
       "count  100.000000     100.000000\n",
       "mean   119.139000  755645.000000\n",
       "std     10.743482   62547.529201\n",
       "min     92.600000  594000.000000\n",
       "25%    112.050000  708625.000000\n",
       "50%    118.600000  757000.000000\n",
       "75%    125.950000  791875.000000\n",
       "max    144.900000  946000.000000"
      ]
     },
     "execution_count": 4,
     "metadata": {},
     "output_type": "execute_result"
    }
   ],
   "source": [
    "df.describe()"
   ]
  },
  {
   "cell_type": "code",
   "execution_count": 5,
   "metadata": {},
   "outputs": [
    {
     "data": {
      "text/plain": [
       "<matplotlib.axes._subplots.AxesSubplot at 0x10fe2ab0>"
      ]
     },
     "execution_count": 5,
     "metadata": {},
     "output_type": "execute_result"
    },
    {
     "data": {
      "image/png": "[encoded data removed]",
      "text/plain": [
       "<Figure size 432x288 with 1 Axes>"
      ]
     },
     "metadata": {
      "needs_background": "light"
     },
     "output_type": "display_data"
    }
   ],
   "source": [
    "df.plot(x ='Metrekare', y='Fiyat', kind = 'scatter')"
   ]
  },
  {
   "cell_type": "code",
   "execution_count": 6,
   "metadata": {},
   "outputs": [],
   "source": [
    "import math\n",
    "import matplotlib.animation as animation\n",
    "from matplotlib import cm\n",
    "from mpl_toolkits.mplot3d import Axes3D \n",
    "\n",
    "\n",
    "def costfunc(h, y):\n",
    "    cost = (1/(2*len(y))) * np.sum(np.square(h-y))\n",
    "    return cost\n",
    "\n",
    "\n",
    "def hypothesis(theta0,theta1,x):\n",
    "#for a single feature. if more than one feature, \n",
    "#then I think this function needs to be changed\n",
    "    h = theta0+theta1*x\n",
    "    return h\n",
    "\n",
    "def normalization(x):\n",
    "    mean = np.mean(x)\n",
    "    stddev = np.std(x)\n",
    "    x_norm = (x - mean) / stddev\n",
    "    return x_norm,mean,stddev\n",
    "\n",
    "def gradient_descent(x,y,theta0=0,theta1=0,alpha=0.0001,iter=100):\n",
    "    n = len(x)\n",
    "    err = []\n",
    "    models = []\n",
    "    for i in range(0,iter):\n",
    "        for j in range(len(x)):\n",
    "            h = hypothesis(theta0, theta1, x[j])\n",
    "            theta0 = theta0 - alpha*(np.sum(h-y[j]))/n #derivative\n",
    "            theta1 = theta1 - alpha*((h-y[j]) * (x[j]))/n #x ile carpilmasi gerek theta1 oldugu icin\n",
    "        models.append([theta0, theta1])\n",
    "        h = hypothesis(theta0, theta1, x)\n",
    "        cost = costfunc(h,y)\n",
    "        err.append(cost) \n",
    "    return theta0,theta1,err,models\n"
   ]
  },
  {
   "cell_type": "code",
   "execution_count": 7,
   "metadata": {
    "scrolled": true
   },
   "outputs": [
    {
     "data": {
      "image/png": "[encoded data removed]",
      "text/plain": [
       "<Figure size 432x288 with 1 Axes>"
      ]
     },
     "metadata": {
      "needs_background": "light"
     },
     "output_type": "display_data"
    }
   ],
   "source": [
    "x = df['Metrekare'].to_numpy() \n",
    "y = df['Fiyat'].to_numpy()\n",
    "theta0 = rd.randint(200000,500000)\n",
    "theta1 = rd.randint(1000,3000)\n",
    "learning_rate = 0.03 \n",
    "iterations = 300\n",
    "theta0_opt = 755645 #348023\n",
    "theta1_opt = 36573 #3421.4\n",
    "x_norm,mean, stdev = normalization(x)\n",
    "theta0,theta1,err, models = gradient_descent(x_norm,y,theta0,theta1,learning_rate,iterations)\n",
    "#theta0,theta1,err, models = gradient_descent(x,y,theta0,theta1,learning_rate,iterations)\n",
    "y_optimal = hypothesis(theta0_opt,theta1_opt, x)\n",
    "y_bg = hypothesis(theta0, theta1, x_norm)\n",
    "cost_opt = costfunc(y_optimal,y)\n",
    "cost_bg = costfunc(y_bg, y)\n",
    "\n",
    "plt.plot([math.log(e) for e in err]) \n",
    "plt.show()\n",
    "\n"
   ]
  },
  {
   "cell_type": "code",
   "execution_count": 10,
   "metadata": {},
   "outputs": [
    {
     "name": "stderr",
     "output_type": "stream",
     "text": [
      "MovieWriter ffmpeg unavailable; trying to use <class 'matplotlib.animation.PillowWriter'> instead.\n"
     ]
    },
    {
     "data": {
      "image/png": "[encoded data removed]",
      "text/plain": [
       "<Figure size 432x288 with 1 Axes>"
      ]
     },
     "metadata": {
      "needs_background": "light"
     },
     "output_type": "display_data"
    }
   ],
   "source": [
    "import numpy as np\n",
    "import math\n",
    "import pandas as pd\n",
    "import matplotlib.pyplot as plt\n",
    "import matplotlib.animation as animation\n",
    "from matplotlib import cm\n",
    "from mpl_toolkits.mplot3d import Axes3D \n",
    "fig, ax = plt.subplots()\n",
    "fig.suptitle('batch gradient', fontsize=20)\n",
    "ax.set_xlabel('Metrekare')\n",
    "ax.set_ylabel('Fiyat (TL)')\n",
    "ax.scatter(x, y, color='red')\n",
    "#ax.plot(x,y_optimal,color='m')\n",
    "x_all = np.array((list(range(90,151))))\n",
    "x_all_norm = np.array(([(a - mean)/stdev for a in range(90,151)]))\n",
    "\n",
    "ax.plot(x_all, hypothesis(theta0_opt, theta1_opt, x_all_norm), color = 'm')\n",
    "\n",
    "line, = ax.plot(x_all, hypothesis(models[0][0], models[0][1], x_all_norm))\n",
    "def animate(i):\n",
    "    line.set_ydata(hypothesis(models[i][0], models[i][1], x_all_norm))  # update the data.\n",
    "    return line,\n",
    "\n",
    "ani = animation.FuncAnimation(fig, animate, interval=100, blit=True, save_count=len(models))\n",
    "ani.save(r'C:\\Users\\U090167\\Desktop\\Risk\\Python\\data.gif')"
   ]
  },
  {
   "cell_type": "code",
   "execution_count": null,
   "metadata": {},
   "outputs": [],
   "source": []
  },
  {
   "cell_type": "code",
   "execution_count": null,
   "metadata": {},
   "outputs": [],
   "source": []
  }
 ],
 "metadata": {
  "kernelspec": {
   "display_name": "Python 3",
   "language": "python",
   "name": "python3"
  },
  "language_info": {
   "codemirror_mode": {
    "name": "ipython",
    "version": 3
   },
   "file_extension": ".py",
   "mimetype": "text/x-python",
   "name": "python",
   "nbconvert_exporter": "python",
   "pygments_lexer": "ipython3",
   "version": "3.7.4"
  }
 },
 "nbformat": 4,
 "nbformat_minor": 2
}
