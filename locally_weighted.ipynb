{
 "cells": [
  {
   "cell_type": "code",
   "execution_count": 92,
   "metadata": {},
   "outputs": [],
   "source": [
    "import numpy as np\n",
    "import matplotlib.pyplot as plt\n",
    "import pandas as pd\n",
    "import math\n",
    "df=pd.read_excel(\"Ev_fiyatlari.xlsx\",usecols=['Metrekare', 'Fiyat'])"
   ]
  },
  {
   "cell_type": "code",
   "execution_count": 107,
   "metadata": {},
   "outputs": [],
   "source": [
    "def weight(x,x_input, r):\n",
    "    l = []\n",
    "    for x_deger in x:\n",
    "        l.append(math.exp(-np.sum(np.square(x_input-x_deger))/(2*r**2)))   \n",
    "     #  l.append(1)\n",
    "    return l\n",
    "\n",
    "\n",
    "def normal_equation_closed_form(x,y):\n",
    "    x_ext = np.column_stack((np.ones((len(x),1)),x))\n",
    "    x_transpose = np.transpose(x_ext)   #calculating transpose \n",
    "    x_transpose_dot_x = x_transpose.dot(x_ext)  # calculating dot product\n",
    "    inverse_of_transposed = np.linalg.inv(x_transpose_dot_x)\n",
    "    x_transpose_dot_y = x_transpose.dot(y) \n",
    "    theta_normal = inverse_of_transposed.dot(x_transpose_dot_y)\n",
    "    return theta_normal\n",
    "\n",
    "def locally_weighted(x,y,r,x_inp):\n",
    "    w = weight(x, x_inp, r)\n",
    "    w_sqrt = np.sqrt(np.array(w))\n",
    "    y_ext = np.multiply(y, w_sqrt)\n",
    "    w_sqrt = np.column_stack((w_sqrt,w_sqrt))\n",
    "    x_ext = np.column_stack((np.ones((len(x),1)),x))\n",
    "    x_ext = np.multiply(x_ext, w_sqrt)\n",
    "    theta_n = normal_equation_closed_form(x_ext, y_ext)\n",
    "    \n",
    "    return theta_n[0] + theta_n[1] * x_inp\n",
    "        \n",
    "\n",
    "          "
   ]
  },
  {
   "cell_type": "code",
   "execution_count": 113,
   "metadata": {
    "scrolled": true
   },
   "outputs": [
    {
     "name": "stdout",
     "output_type": "stream",
     "text": [
      "from normal equation, theta0 and theta1:  [348023.14093061   3421.39735158]\n",
      "locally_weighted returns:  77033255.62573382\n"
     ]
    }
   ],
   "source": [
    "x = df['Metrekare'].to_numpy()\n",
    "y = df['Fiyat'].to_numpy()\n",
    "r = 1.5 #r yi değiştirdikçe locally weighted fonksiyonundan dönen değer değişiyor. \n",
    "#Bu değişkeni nasıl ayarlamamız lazım?\n",
    "x_inp = 100.7 \n",
    "\n",
    "norm = normal_equation_closed_form(x,y)\n",
    "print('from normal equation, theta0 and theta1: ', norm)\n",
    "\n",
    "lw = locally_weighted(x,y, r, x_inp)\n",
    "print('locally_weighted returns: ', lw)\n"
   ]
  },
  {
   "cell_type": "code",
   "execution_count": null,
   "metadata": {},
   "outputs": [],
   "source": []
  },
  {
   "cell_type": "code",
   "execution_count": null,
   "metadata": {},
   "outputs": [],
   "source": []
  }
 ],
 "metadata": {
  "kernelspec": {
   "display_name": "Python 3",
   "language": "python",
   "name": "python3"
  },
  "language_info": {
   "codemirror_mode": {
    "name": "ipython",
    "version": 3
   },
   "file_extension": ".py",
   "mimetype": "text/x-python",
   "name": "python",
   "nbconvert_exporter": "python",
   "pygments_lexer": "ipython3",
   "version": "3.7.4"
  }
 },
 "nbformat": 4,
 "nbformat_minor": 2
}
